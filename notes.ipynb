{
 "cells": [
  {
   "cell_type": "markdown",
   "metadata": {},
   "source": [
    "# Parameters manipulation and count"
   ]
  },
  {
   "cell_type": "code",
   "execution_count": 90,
   "metadata": {},
   "outputs": [],
   "source": [
    "for param in model.parameters():\n",
    "    param.requires_grad = False\n",
    "\n",
    "# for i in range(0, 31):\n",
    "#     for param in model.model.layers[i].parameters():\n",
    "#         param.requires_grad = True\n",
    "\n",
    "for param in model.model.layers[0].parameters():\n",
    "    param.requires_grad = True"
   ]
  },
  {
   "cell_type": "code",
   "execution_count": 96,
   "metadata": {},
   "outputs": [
    {
     "name": "stdout",
     "output_type": "stream",
     "text": [
      "Percentage of trainable parameters: 3.00%\n"
     ]
    }
   ],
   "source": [
    "total_param = sum(p.numel() for p in model.parameters())\n",
    "trinable_param = sum(p.numel() for p in model.parameters() if p.requires_grad)\n",
    "\n",
    "percentages = trinable_param / total_param * 100\n",
    "\n",
    "print(f\"Percentage of trainable parameters: {percentages:.2f}%\")"
   ]
  },
  {
   "cell_type": "code",
   "execution_count": 98,
   "metadata": {},
   "outputs": [
    {
     "name": "stdout",
     "output_type": "stream",
     "text": [
      "+------------------------------------------------+------------+\n",
      "|                    Modules                     | Parameters |\n",
      "+------------------------------------------------+------------+\n",
      "|     model.layers.0.self_attn.q_proj.weight     |  16777216  |\n",
      "|     model.layers.0.self_attn.k_proj.weight     |  16777216  |\n",
      "|     model.layers.0.self_attn.v_proj.weight     |  16777216  |\n",
      "|     model.layers.0.self_attn.o_proj.weight     |  16777216  |\n",
      "|      model.layers.0.mlp.gate_proj.weight       |  45088768  |\n",
      "|       model.layers.0.mlp.up_proj.weight        |  45088768  |\n",
      "|      model.layers.0.mlp.down_proj.weight       |  45088768  |\n",
      "|     model.layers.0.input_layernorm.weight      |    4096    |\n",
      "| model.layers.0.post_attention_layernorm.weight |    4096    |\n",
      "+------------------------------------------------+------------+\n",
      "Total Trainable Params: 202383360\n",
      "\n",
      "Percentage of trainable parameters: 3.00%\n"
     ]
    }
   ],
   "source": [
    "from prettytable import PrettyTable\n",
    "\n",
    "def count_parameters(model):\n",
    "    table = PrettyTable([\"Modules\", \"Parameters\"])\n",
    "    trainable_params = 0\n",
    "    for name, parameter in model.named_parameters():\n",
    "        if not parameter.requires_grad:\n",
    "            continue\n",
    "        params = parameter.numel()\n",
    "        table.add_row([name, params])\n",
    "        trainable_params += params\n",
    "    print(table)\n",
    "    print(f\"Total Trainable Params: {trainable_params}\")\n",
    "    total_param = sum(p.numel() for p in model.parameters())\n",
    "    percentage = trainable_params/total_param * 100\n",
    "\n",
    "    return print(f\"\\nPercentage of trainable parameters: {percentage:.2f}%\")\n",
    "    \n",
    "count_parameters(model)"
   ]
  }
 ],
 "metadata": {
  "kernelspec": {
   "display_name": "Python 3",
   "language": "python",
   "name": "python3"
  },
  "language_info": {
   "codemirror_mode": {
    "name": "ipython",
    "version": 3
   },
   "file_extension": ".py",
   "mimetype": "text/x-python",
   "name": "python",
   "nbconvert_exporter": "python",
   "pygments_lexer": "ipython3",
   "version": "3.12.2"
  }
 },
 "nbformat": 4,
 "nbformat_minor": 2
}
