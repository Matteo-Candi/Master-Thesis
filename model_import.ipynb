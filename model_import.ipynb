{
 "cells": [
  {
   "cell_type": "markdown",
   "metadata": {},
   "source": [
    "# Model and Data import"
   ]
  },
  {
   "cell_type": "code",
   "execution_count": 20,
   "metadata": {},
   "outputs": [
    {
     "name": "stderr",
     "output_type": "stream",
     "text": [
      "c:\\Users\\mcandi\\.conda\\envs\\models_test\\Lib\\site-packages\\tqdm\\auto.py:21: TqdmWarning: IProgress not found. Please update jupyter and ipywidgets. See https://ipywidgets.readthedocs.io/en/stable/user_install.html\n",
      "  from .autonotebook import tqdm as notebook_tqdm\n",
      "Special tokens have been added in the vocabulary, make sure the associated word embeddings are fine-tuned or trained.\n",
      "Loading checkpoint shards: 100%|██████████| 2/2 [00:19<00:00,  9.66s/it]\n"
     ]
    }
   ],
   "source": [
    "# Load model directly\n",
    "from transformers import AutoTokenizer, AutoModelForCausalLM\n",
    "\n",
    "tokenizer = AutoTokenizer.from_pretrained(\"m-a-p/OpenCodeInterpreter-DS-6.7B\")\n",
    "model = AutoModelForCausalLM.from_pretrained(\"m-a-p/OpenCodeInterpreter-DS-6.7B\")"
   ]
  },
  {
   "cell_type": "code",
   "execution_count": 1,
   "metadata": {},
   "outputs": [],
   "source": [
    "import os\n",
    "\n",
    "def extract_data(file_path):\n",
    "    data = []\n",
    "    with open(file_path, \"r\") as file:\n",
    "        for line in file:\n",
    "            data.append(line.strip())\n",
    "    return data\n",
    "\n",
    "\n",
    "def save_translations(translations, filename):\n",
    "    file_path = os.path.join('results', f'{filename}.txt')\n",
    "    # if not os.path.exists(file_path):\n",
    "    #     os.makedirs(file_path)\n",
    "\n",
    "    with open(file_path, 'w') as file:\n",
    "        for item in translations:\n",
    "            file.write(f\"{item}\\n\")\n",
    "\n",
    "\n",
    "\n",
    "python_data_path = r'benchmark\\G-TransEval\\Python.test' \n",
    "java_data_path = r'benchmark\\G-TransEval\\Java.test' \n",
    "\n",
    "python_data = extract_data(python_data_path)\n",
    "java_data = extract_data(java_data_path)\n"
   ]
  },
  {
   "cell_type": "code",
   "execution_count": 57,
   "metadata": {},
   "outputs": [
    {
     "name": "stderr",
     "output_type": "stream",
     "text": [
      "c:\\Users\\mcandi\\.conda\\envs\\models_test\\Lib\\site-packages\\tqdm\\auto.py:21: TqdmWarning: IProgress not found. Please update jupyter and ipywidgets. See https://ipywidgets.readthedocs.io/en/stable/user_install.html\n",
      "  from .autonotebook import tqdm as notebook_tqdm\n",
      "Special tokens have been added in the vocabulary, make sure the associated word embeddings are fine-tuned or trained.\n"
     ]
    },
    {
     "data": {
      "text/plain": [
       "512"
      ]
     },
     "execution_count": 57,
     "metadata": {},
     "output_type": "execute_result"
    }
   ],
   "source": [
    "# Load model directly\n",
    "from transformers import AutoTokenizer, AutoModelForCausalLM\n",
    "\n",
    "tokenizer = AutoTokenizer.from_pretrained(\"m-a-p/OpenCodeInterpreter-DS-6.7B\")\n",
    "\n",
    "max_lll = 0\n",
    "for el in java_data:\n",
    "    lll = len(tokenizer(el, return_tensors=\"pt\")[\"input_ids\"][0])\n",
    "    if lll > max_lll:\n",
    "        max_lll = lll\n",
    "\n",
    "max_lll"
   ]
  },
  {
   "cell_type": "markdown",
   "metadata": {},
   "source": [
    "# Translation extraction"
   ]
  },
  {
   "cell_type": "code",
   "execution_count": 197,
   "metadata": {},
   "outputs": [],
   "source": [
    "import re\n",
    "\n",
    "def extract_functions(file):\n",
    "\n",
    "    with open(file, 'r') as file:\n",
    "        data = file.read()\n",
    "    split_data = data.split('\\n\\n# END OF TRANSLATION\\n\\n')[:-1]\n",
    "\n",
    "    all_list = []\n",
    "\n",
    "    for translation in split_data:\n",
    "        if '```python' in translation:\n",
    "            psttern = r'```python\\n(.*?)```'\n",
    "            match = re.findall(psttern, translation, re.DOTALL)[0]\n",
    "            all_list.append(match)\n",
    "        else:\n",
    "            translated_function = 'def ' + translation.split('def ')[1]\n",
    "            cleaned_translation = translated_function.split('#')[0]\n",
    "            all_list.append(cleaned_translation)\n",
    "\n",
    "    return all_list\n",
    "\n",
    "\n",
    "def prepare_for_unit(data):\n",
    "    for translation in data:\n",
    "        translation = translation.replace('\\n', 'NEW_LINE')"
   ]
  },
  {
   "cell_type": "markdown",
   "metadata": {},
   "source": [
    "# Translation evaluation metrics"
   ]
  },
  {
   "cell_type": "code",
   "execution_count": 194,
   "metadata": {},
   "outputs": [],
   "source": [
    "from codebleu import calc_codebleu\n",
    "\n",
    "def BLUE_score(reference, prediction):\n",
    "    result = calc_codebleu([reference], [prediction], lang=\"python\", weights=(1, 0, 0, 0), tokenizer=None)\n",
    "    return result['codebleu']\n",
    "\n",
    "\n",
    "def CodeBLEU_score(reference, prediction):\n",
    "    result = calc_codebleu([reference], [prediction], lang=\"python\", weights=(0.25, 0.25, 0.25, 0.25), tokenizer=None)\n",
    "    return result['codebleu']\n",
    "\n",
    "\n",
    "\n",
    "\n",
    "def evaluation_metrics(reference, prediction):\n",
    "    blue = BLUE_score(reference, prediction)\n",
    "    code_blue = CodeBLEU_score(reference, prediction)\n",
    "\n",
    "    result_metrics = {\n",
    "        'BLUE': blue,\n",
    "        'CodeBLEU': code_blue\n",
    "    }\n",
    "\n",
    "    return result_metrics\n",
    "\n",
    "\n",
    "\n",
    "def reindent_code(code):\n",
    "\n",
    "    indet_count = 0\n",
    "    final_code = ''\n",
    "    for line in code.split(' NEW_LINE '):\n",
    "\n",
    "        if 'INDENT' in line:\n",
    "            indet_count += line.count('INDENT')\n",
    "            line = line.replace('INDENT ', '')\n",
    "            line = '    ' * indet_count + line\n",
    "\n",
    "        elif 'DEDENT' in line:\n",
    "            indet_count -= line.count('DEDENT')\n",
    "            line = line.replace('DEDENT ', '')\n",
    "            line = '    ' * indet_count + line\n",
    "\n",
    "        else:\n",
    "            line = '    ' * indet_count + line\n",
    "\n",
    "        final_code += line + '\\n'\n",
    "\n",
    "    return final_code\n",
    "\n",
    "\n",
    "\n",
    "def format_code(code):\n",
    "\n",
    "    code = code.replace('( ', '(').replace(' )', ')').replace(' ,', ',').replace(' :', ':'). replace(' . ', '.').replace('[ ', '[').replace(' ]', ']').replace('{ ', '{').replace(' }', '}')\n",
    "    pattern = r'[a-zA-Z] \\('\n",
    "    code = re.sub(pattern, lambda match: match.group(0).replace(' (', '('), code)\n",
    "    pattern = r'[a-zA-Z] \\['\n",
    "    code = re.sub(pattern, lambda match: match.group(0).replace(' [', '['), code)\n",
    "\n",
    "    formatted_code = reindent_code(code)\n",
    "\n",
    "    return formatted_code\n"
   ]
  },
  {
   "cell_type": "code",
   "execution_count": 200,
   "metadata": {},
   "outputs": [],
   "source": [
    "with open(r'benchmark\\G-TransEval\\Python.test', 'r') as file:\n",
    "    references = file.read()\n",
    "\n",
    "references = references.split('\\n')\n",
    "\n",
    "predictions = extract_functions('baseline_translation.txt')\n"
   ]
  },
  {
   "cell_type": "code",
   "execution_count": 201,
   "metadata": {},
   "outputs": [],
   "source": [
    "results = []\n",
    "for reference, prediction in zip(references, predictions):\n",
    "    reference = format_code(reference)\n",
    "    prediction = format_code(prediction)\n",
    "    metrics = evaluation_metrics(reference, prediction)\n",
    "    results.append(metrics)"
   ]
  },
  {
   "cell_type": "code",
   "execution_count": 204,
   "metadata": {},
   "outputs": [
    {
     "data": {
      "text/plain": [
       "{'BLUE': 0.6607780209625196, 'CodeBLEU': 0.7438829946730859}"
      ]
     },
     "execution_count": 204,
     "metadata": {},
     "output_type": "execute_result"
    }
   ],
   "source": [
    "def calculate_mean_scores(data):\n",
    "    total_blue = 0\n",
    "    total_codebleu = 0\n",
    "    count = len(data)\n",
    "\n",
    "    for entry in data:\n",
    "        total_blue += entry['BLUE']\n",
    "        total_codebleu += entry['CodeBLEU']\n",
    "\n",
    "    mean_blue = total_blue / count\n",
    "    mean_codebleu = total_codebleu / count\n",
    "\n",
    "    return {'BLUE': mean_blue, 'CodeBLEU': mean_codebleu}\n",
    "\n",
    "mean_scores = calculate_mean_scores(results)\n",
    "mean_scores"
   ]
  },
  {
   "cell_type": "code",
   "execution_count": 195,
   "metadata": {},
   "outputs": [
    {
     "data": {
      "text/plain": [
       "{'BLUE': 0.7976501109363606, 'CodeBLEU': 0.9010534742615681}"
      ]
     },
     "execution_count": 195,
     "metadata": {},
     "output_type": "execute_result"
    }
   ],
   "source": [
    "reference = format_code(references[0])\n",
    "prediction = data[0]\n",
    "\n",
    "evaluation_metrics(reference, prediction)"
   ]
  },
  {
   "cell_type": "code",
   "execution_count": 196,
   "metadata": {},
   "outputs": [
    {
     "data": {
      "text/plain": [
       "'def greatest_common_divisor(a, b):\\n    if a == 0 or b == 0:\\n        return a + b\\n    if a == b:\\n        return a\\n    if a > b:\\n        return greatest_common_divisor(a % b, b)\\n    else:\\n        return greatest_common_divisor(a, b % a)\\n\\n'"
      ]
     },
     "execution_count": 196,
     "metadata": {},
     "output_type": "execute_result"
    }
   ],
   "source": [
    "reference"
   ]
  },
  {
   "cell_type": "markdown",
   "metadata": {},
   "source": [
    "# Parameters manipulation and count"
   ]
  },
  {
   "cell_type": "code",
   "execution_count": 90,
   "metadata": {},
   "outputs": [],
   "source": [
    "for param in model.parameters():\n",
    "    param.requires_grad = False\n",
    "\n",
    "# for i in range(0, 31):\n",
    "#     for param in model.model.layers[i].parameters():\n",
    "#         param.requires_grad = True\n",
    "\n",
    "for param in model.model.layers[0].parameters():\n",
    "    param.requires_grad = True"
   ]
  },
  {
   "cell_type": "code",
   "execution_count": 96,
   "metadata": {},
   "outputs": [
    {
     "name": "stdout",
     "output_type": "stream",
     "text": [
      "Percentage of trainable parameters: 3.00%\n"
     ]
    }
   ],
   "source": [
    "total_param = sum(p.numel() for p in model.parameters())\n",
    "trinable_param = sum(p.numel() for p in model.parameters() if p.requires_grad)\n",
    "\n",
    "percentages = trinable_param / total_param * 100\n",
    "\n",
    "print(f\"Percentage of trainable parameters: {percentages:.2f}%\")"
   ]
  },
  {
   "cell_type": "code",
   "execution_count": 98,
   "metadata": {},
   "outputs": [
    {
     "name": "stdout",
     "output_type": "stream",
     "text": [
      "+------------------------------------------------+------------+\n",
      "|                    Modules                     | Parameters |\n",
      "+------------------------------------------------+------------+\n",
      "|     model.layers.0.self_attn.q_proj.weight     |  16777216  |\n",
      "|     model.layers.0.self_attn.k_proj.weight     |  16777216  |\n",
      "|     model.layers.0.self_attn.v_proj.weight     |  16777216  |\n",
      "|     model.layers.0.self_attn.o_proj.weight     |  16777216  |\n",
      "|      model.layers.0.mlp.gate_proj.weight       |  45088768  |\n",
      "|       model.layers.0.mlp.up_proj.weight        |  45088768  |\n",
      "|      model.layers.0.mlp.down_proj.weight       |  45088768  |\n",
      "|     model.layers.0.input_layernorm.weight      |    4096    |\n",
      "| model.layers.0.post_attention_layernorm.weight |    4096    |\n",
      "+------------------------------------------------+------------+\n",
      "Total Trainable Params: 202383360\n",
      "\n",
      "Percentage of trainable parameters: 3.00%\n"
     ]
    }
   ],
   "source": [
    "from prettytable import PrettyTable\n",
    "\n",
    "def count_parameters(model):\n",
    "    table = PrettyTable([\"Modules\", \"Parameters\"])\n",
    "    trainable_params = 0\n",
    "    for name, parameter in model.named_parameters():\n",
    "        if not parameter.requires_grad:\n",
    "            continue\n",
    "        params = parameter.numel()\n",
    "        table.add_row([name, params])\n",
    "        trainable_params += params\n",
    "    print(table)\n",
    "    print(f\"Total Trainable Params: {trainable_params}\")\n",
    "    total_param = sum(p.numel() for p in model.parameters())\n",
    "    percentage = trainable_params/total_param * 100\n",
    "\n",
    "    return print(f\"\\nPercentage of trainable parameters: {percentage:.2f}%\")\n",
    "    \n",
    "count_parameters(model)"
   ]
  }
 ],
 "metadata": {
  "kernelspec": {
   "display_name": "Python 3",
   "language": "python",
   "name": "python3"
  },
  "language_info": {
   "codemirror_mode": {
    "name": "ipython",
    "version": 3
   },
   "file_extension": ".py",
   "mimetype": "text/x-python",
   "name": "python",
   "nbconvert_exporter": "python",
   "pygments_lexer": "ipython3",
   "version": "3.12.2"
  }
 },
 "nbformat": 4,
 "nbformat_minor": 2
}
